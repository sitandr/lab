{
 "cells": [
  {
   "cell_type": "code",
   "execution_count": 2,
   "id": "952ad916-d636-487a-aa60-59436686e883",
   "metadata": {},
   "outputs": [
    {
     "name": "stderr",
     "output_type": "stream",
     "text": [
      "C:\\Users\\andr\\AppData\\Roaming\\Python\\Python310\\site-packages\\scipy\\__init__.py:146: UserWarning: A NumPy version >=1.16.5 and <1.23.0 is required for this version of SciPy (detected version 1.23.2\n",
      "  warnings.warn(f\"A NumPy version >={np_minversion} and <{np_maxversion}\"\n"
     ]
    }
   ],
   "source": [
    "# import the necessary packages\n",
    "from imutils.perspective import four_point_transform\n",
    "from imutils import contours\n",
    "import imutils\n",
    "import cv2\n",
    "from scipy import ndimage\n",
    "import numpy as np\n",
    "# define the dictionary of digit segments so we can identify\n",
    "# each digit on the thermostat\n",
    "DIGITS_LOOKUP = {\n",
    "\t(1, 1, 1, 0, 1, 1, 1): '0',\n",
    "\t(0, 0, 1, 0, 0, 1, 0): '1',\n",
    "    (0, 0, 1, 0, 0, 1, 1): '1',  # it is 1 and point\n",
    "\t(1, 0, 1, 1, 1, 0, 1): '2',\n",
    "\t(1, 0, 1, 1, 0, 1, 1): '3',\n",
    "\t(0, 1, 1, 1, 0, 1, 0): '4',\n",
    "    (0, 1, 1, 1, 0, 1, 1): '4', # it is 4 and point\n",
    "\t(1, 1, 0, 1, 0, 1, 1): '5',\n",
    "\t(1, 1, 0, 1, 1, 1, 1): '6',\n",
    "\t(1, 0, 1, 0, 0, 1, 0): '7',\n",
    "    (1, 0, 1, 0, 0, 1, 1): '7', # it is 7 and point\n",
    "\t(1, 1, 1, 1, 1, 1, 1): '8',\n",
    "\t(1, 1, 1, 1, 0, 1, 1): '9'\n",
    "}"
   ]
  },
  {
   "cell_type": "code",
   "execution_count": 3,
   "id": "01cc2f69-11aa-4f17-964a-92951f5810f4",
   "metadata": {},
   "outputs": [],
   "source": [
    "def show(img):\n",
    "    cv2.imshow('image', img)\n",
    "    cv2.waitKey(0)\n",
    "\n",
    "# load the example image\n"
   ]
  },
  {
   "cell_type": "code",
   "execution_count": 12,
   "id": "c355b26d-bb45-4c01-87b6-c66753bb613a",
   "metadata": {},
   "outputs": [],
   "source": [
    "def digits_from_image(image):\n",
    "    # pre-process the image by resizing it, converting it to\n",
    "    # graycale, blurring it, and computing an edge map\n",
    "    image = imutils.resize(image, height=500)\n",
    "    gray = cv2.cvtColor(image, cv2.COLOR_BGR2GRAY)\n",
    "    blurred = cv2.GaussianBlur(gray, (3, 3), 0)\n",
    "    edged = cv2.Canny(blurred, 50, 170, 255)\n",
    "    # show(edged)\n",
    "    # find contours in the edge map, then sort them by their\n",
    "    # size in descending order\n",
    "    cnts = cv2.findContours(edged.copy(), cv2.RETR_EXTERNAL,\n",
    "        cv2.CHAIN_APPROX_SIMPLE)\n",
    "    cnts = imutils.grab_contours(cnts)\n",
    "    cnts = sorted(cnts, key=cv2.contourArea, reverse=True)\n",
    "    displayCnt = None\n",
    "    # loop over the contours\n",
    "    for c in cnts:\n",
    "        # approximate the contour\n",
    "        peri = cv2.arcLength(c, True)\n",
    "        approx = cv2.approxPolyDP(c, 0.02 * peri, True)\n",
    "        # if the contour has four vertices, then we have found\n",
    "        # the thermostat display\n",
    "        if len(approx) == 4:\n",
    "            displayCnt = approx\n",
    "            break\n",
    "    if displayCnt is None:\n",
    "        #show(edged)\n",
    "        return '???'\n",
    "    # extract the thermostat display, apply a perspective transform\n",
    "    # to it\n",
    "    warped = four_point_transform(gray, displayCnt.reshape(4, 2))\n",
    "    output = four_point_transform(image, displayCnt.reshape(4, 2))\n",
    "    # threshold the warped image, then apply a series of morphological\n",
    "    # operations to cleanup the thresholded image\n",
    "    thresh = cv2.inRange(output, (0, np.average(output[:, :, 1])*2, 0), (130, 255, 130))\n",
    "\n",
    "    kernel = cv2.getStructuringElement(cv2.MORPH_ELLIPSE, (2, 3))\n",
    "    thresh = cv2.morphologyEx(thresh, cv2.MORPH_OPEN, kernel)\n",
    "    \n",
    "    thresh = cv2.GaussianBlur(thresh, (3, 3), 0)\n",
    "    # show(thresh)\n",
    "    # show(image)\n",
    "    # find contours in the thresholded image, then initialize the\n",
    "    # digit contours lists\n",
    "    cnts = cv2.findContours(thresh.copy(), cv2.RETR_EXTERNAL,\n",
    "        cv2.CHAIN_APPROX_SIMPLE)\n",
    "    cnts = imutils.grab_contours(cnts)\n",
    "    digitCnts = []\n",
    "    # loop over the digit area candidates\n",
    "    for c in cnts:\n",
    "        # compute the bounding box of the contour\n",
    "        (x, y, w, h) = cv2.boundingRect(c)\n",
    "        # if the contour is sufficiently large, it must be a digit\n",
    "        # print(x,y,w,h)\n",
    "        if w >= 5 and (h >= 10 and h <= 50):\n",
    "            digitCnts.append(c)\n",
    "    # sort the contours from left-to-right, then initialize the\n",
    "    # actual digits themselves\n",
    "    if len(digitCnts) == 0:\n",
    "        return \"???\"\n",
    "    digitCnts = contours.sort_contours(digitCnts,\n",
    "        method=\"left-to-right\")[0]\n",
    "    digits = []\n",
    "    # loop over each of the digits\n",
    "    digits = []\n",
    "    for c in digitCnts:\n",
    "        # extract the digit ROI\n",
    "        (x, y, w, h) = cv2.boundingRect(c)\n",
    "        if h >= w*2.7:\n",
    "            digits.append('1')\n",
    "            continue\n",
    "\n",
    "        roi = thresh[y:y + h, x:x + w]\n",
    "        # show(ndimage.rotate(roi, 3))\n",
    "        # compute the width and height of each of the 7 segments\n",
    "        # we are going to examine\n",
    "        (roiH, roiW) = roi.shape\n",
    "        (dW, dH) = (int(roiW * 0.3), int(roiH * 0.2))\n",
    "        dHC = int(roiH * 0.05)\n",
    "        # define the set of 7 segments\n",
    "        segments = [\n",
    "            ((0, 0), (w, dH)),\t# top\n",
    "            ((0, 0), (dW, h // 2)),\t# top-left\n",
    "            ((w - dW, 0), (w, h // 2)),\t# top-right\n",
    "            ((0, (h // 2) - dHC) , (w, (h // 2) + dHC)), # center\n",
    "            ((0, h // 2), (dW, h)),\t# bottom-left\n",
    "            ((w - dW, h // 2), (w, h)),\t# bottom-right\n",
    "            ((0, h - dH), (w, h))\t# bottom\n",
    "        ]\n",
    "        on = [0] * len(segments)\n",
    "            # loop over the segments\n",
    "        for (i, ((xA, yA), (xB, yB))) in enumerate(segments):\n",
    "            # extract the segment ROI, count the total number of\n",
    "            # thresholded pixels in the segment, and then compute\n",
    "            # the area of the segment\n",
    "            segROI = ndimage.rotate(roi, 3)[yA:yB, xA:xB]\n",
    "            total = cv2.countNonZero(segROI)\n",
    "            area = (xB - xA) * (yB - yA)\n",
    "            # if the total number of non-zero pixels is greater than\n",
    "            # 50% of the area, mark the segment as \"on\"\n",
    "            if float(area) > 0 and total / float(area) > 0.5:\n",
    "                on[i]= 1\n",
    "        # lookup the digit and draw it on the image\n",
    "        if tuple(on) not in DIGITS_LOOKUP:\n",
    "            digits.append('?')\n",
    "            continue\n",
    "        digit = DIGITS_LOOKUP[tuple(on)]\n",
    "        digits.append(digit)\n",
    "        #cv2.rectangle(output, (x, y), (x + w, y + h), (0, 255, 0), 1)\n",
    "        #cv2.putText(output, str(digit), (x - 10, y - 10),\n",
    "        #\tcv2.FONT_HERSHEY_SIMPLEX, 0.65, (0, 255, 0), 2)\n",
    "    #show(output)\n",
    "    return ''.join(digits)"
   ]
  },
  {
   "cell_type": "code",
   "execution_count": 13,
   "id": "609038d0-99f4-451e-a1f0-1616b6fd019d",
   "metadata": {},
   "outputs": [
    {
     "data": {
      "text/plain": [
       "'4511'"
      ]
     },
     "execution_count": 13,
     "metadata": {},
     "output_type": "execute_result"
    }
   ],
   "source": [
    "digits_from_image(cv2.imread('test3.png'))"
   ]
  },
  {
   "cell_type": "code",
   "execution_count": 14,
   "id": "6b4ae0da-605a-42e7-bda0-c958d055c27e",
   "metadata": {},
   "outputs": [
    {
     "data": {
      "text/plain": [
       "'4921'"
      ]
     },
     "execution_count": 14,
     "metadata": {},
     "output_type": "execute_result"
    }
   ],
   "source": [
    "digits_from_image(cv2.imread('test7.png'))"
   ]
  },
  {
   "cell_type": "code",
   "execution_count": 9,
   "id": "09eaf917-8bee-4b42-af49-e975c29336ae",
   "metadata": {},
   "outputs": [
    {
     "data": {
      "text/plain": [
       "'4921'"
      ]
     },
     "execution_count": 9,
     "metadata": {},
     "output_type": "execute_result"
    }
   ],
   "source": [
    "digits_from_image(cv2.imread('test7.png'))"
   ]
  },
  {
   "cell_type": "code",
   "execution_count": 10,
   "id": "0738348a-6382-4af9-897b-dcdce9846f2a",
   "metadata": {},
   "outputs": [],
   "source": [
    "import csv\n",
    "\n",
    "def parse_video(name, f='.MOV'):\n",
    "    cap = cv2.VideoCapture(\"videos/\" + name + f, apiPreference=cv2.CAP_MSMF)\n",
    "    fps = cap.get(cv2.CAP_PROP_FPS)\n",
    "    n = cap.get(cv2.CAP_PROP_FRAME_COUNT)\n",
    "\n",
    "    dat = []\n",
    "    c = 0\n",
    "\n",
    "    while True:\n",
    "        is_read, frame = cap.read()\n",
    "        if not is_read:\n",
    "            # break out of the loop if there are no frames to read\n",
    "            break\n",
    "\n",
    "        dat.append((c/fps, digits_from_image(frame)))\n",
    "        #print(dat[-1][1])\n",
    "        if dat[-1][1] == '1000': # boost if nothing interesting\n",
    "            cap.read()\n",
    "            cap.read()\n",
    "            c += 2\n",
    "        c += 1\n",
    "        if not c%1000:\n",
    "            print(c,'/', int(n))\n",
    "    cap.release()\n",
    "\n",
    "    with open(f\"data/{name}.csv\", \"wt\") as fp:\n",
    "        writer = csv.writer(fp, delimiter=\";\")\n",
    "        # writer.writerow([\"your\", \"header\", \"foo\"])  # write header\n",
    "        writer.writerows(dat)"
   ]
  },
  {
   "cell_type": "code",
   "execution_count": 48,
   "id": "62c2ac06-6299-4367-8e27-e435cf395dd2",
   "metadata": {},
   "outputs": [
    {
     "name": "stdout",
     "output_type": "stream",
     "text": [
      "1000 / 2302\n",
      "2000 / 2302\n"
     ]
    }
   ],
   "source": [
    "parse_video('IMG_5567')\n"
   ]
  },
  {
   "cell_type": "code",
   "execution_count": 49,
   "id": "9c121930-2100-4b12-83a9-e5e50907f1aa",
   "metadata": {},
   "outputs": [],
   "source": [
    "parse_video('IMG_5568')"
   ]
  },
  {
   "cell_type": "code",
   "execution_count": 50,
   "id": "db24a75e-6680-4a14-890b-c63d99a0b605",
   "metadata": {},
   "outputs": [
    {
     "name": "stdout",
     "output_type": "stream",
     "text": [
      "1000 / 3376\n",
      "2000 / 3376\n",
      "3000 / 3376\n"
     ]
    }
   ],
   "source": [
    "parse_video('IMG_5569')"
   ]
  },
  {
   "cell_type": "code",
   "execution_count": 51,
   "id": "274f30ed-77e4-45f6-ac12-f225f127a078",
   "metadata": {},
   "outputs": [
    {
     "name": "stdout",
     "output_type": "stream",
     "text": [
      "1000 / 4182\n",
      "2000 / 4182\n",
      "3000 / 4182\n",
      "4000 / 4182\n"
     ]
    }
   ],
   "source": [
    "parse_video('IMG_5570')"
   ]
  },
  {
   "cell_type": "code",
   "execution_count": 52,
   "id": "7f35037c-755c-4d01-920f-434be3efb188",
   "metadata": {},
   "outputs": [
    {
     "name": "stdout",
     "output_type": "stream",
     "text": [
      "1000 / 2829\n",
      "2000 / 2829\n"
     ]
    }
   ],
   "source": [
    "parse_video('IMG_5571')"
   ]
  },
  {
   "cell_type": "code",
   "execution_count": 13,
   "id": "727e3ea3-c9d8-4700-8300-c2c6d0a97ce7",
   "metadata": {},
   "outputs": [
    {
     "name": "stdout",
     "output_type": "stream",
     "text": [
      "1000 / 35963\n",
      "2000 / 35963\n",
      "3000 / 35963\n",
      "4000 / 35963\n",
      "5000 / 35963\n",
      "6000 / 35963\n",
      "7000 / 35963\n",
      "8000 / 35963\n",
      "9000 / 35963\n",
      "10000 / 35963\n",
      "11000 / 35963\n",
      "12000 / 35963\n",
      "13000 / 35963\n",
      "14000 / 35963\n",
      "15000 / 35963\n",
      "16000 / 35963\n",
      "17000 / 35963\n",
      "18000 / 35963\n",
      "19000 / 35963\n",
      "20000 / 35963\n",
      "21000 / 35963\n",
      "22000 / 35963\n",
      "23000 / 35963\n",
      "24000 / 35963\n",
      "25000 / 35963\n",
      "26000 / 35963\n",
      "27000 / 35963\n",
      "28000 / 35963\n",
      "29000 / 35963\n",
      "30000 / 35963\n",
      "31000 / 35963\n",
      "32000 / 35963\n",
      "33000 / 35963\n",
      "34000 / 35963\n",
      "35000 / 35963\n",
      "35889 / 35963\n",
      "35892 / 35963\n",
      "35895 / 35963\n",
      "35898 / 35963\n",
      "35901 / 35963\n",
      "35904 / 35963\n",
      "35907 / 35963\n",
      "35910 / 35963\n",
      "35913 / 35963\n",
      "35916 / 35963\n",
      "35919 / 35963\n",
      "35922 / 35963\n",
      "35925 / 35963\n",
      "35928 / 35963\n",
      "35931 / 35963\n",
      "35934 / 35963\n",
      "35937 / 35963\n",
      "35940 / 35963\n",
      "35943 / 35963\n",
      "35946 / 35963\n",
      "35949 / 35963\n",
      "35952 / 35963\n",
      "35955 / 35963\n",
      "35958 / 35963\n",
      "35961 / 35963\n"
     ]
    }
   ],
   "source": [
    "parse_video('ZERO', f='.mp4')"
   ]
  },
  {
   "cell_type": "code",
   "execution_count": 16,
   "id": "349ab6e1-27dc-4913-abd0-cc5c3d3e81b0",
   "metadata": {},
   "outputs": [
    {
     "name": "stdout",
     "output_type": "stream",
     "text": [
      "1000 / 14426\n",
      "2000 / 14426\n",
      "3000 / 14426\n",
      "4000 / 14426\n",
      "5000 / 14426\n",
      "6000 / 14426\n",
      "7000 / 14426\n",
      "8000 / 14426\n",
      "9000 / 14426\n",
      "10000 / 14426\n",
      "11000 / 14426\n",
      "12000 / 14426\n",
      "13000 / 14426\n",
      "14000 / 14426\n",
      "14264 / 14426\n",
      "14267 / 14426\n",
      "14270 / 14426\n",
      "14273 / 14426\n",
      "14276 / 14426\n",
      "14279 / 14426\n",
      "14282 / 14426\n",
      "14285 / 14426\n",
      "14288 / 14426\n",
      "14291 / 14426\n",
      "14294 / 14426\n",
      "14297 / 14426\n",
      "14300 / 14426\n",
      "14303 / 14426\n",
      "14306 / 14426\n",
      "14309 / 14426\n",
      "14312 / 14426\n",
      "14315 / 14426\n",
      "14318 / 14426\n",
      "14321 / 14426\n",
      "14324 / 14426\n",
      "14327 / 14426\n",
      "14330 / 14426\n",
      "14333 / 14426\n",
      "14336 / 14426\n",
      "14339 / 14426\n",
      "14342 / 14426\n",
      "14345 / 14426\n",
      "14348 / 14426\n",
      "14351 / 14426\n",
      "14355 / 14426\n",
      "14358 / 14426\n",
      "14362 / 14426\n",
      "14365 / 14426\n",
      "14368 / 14426\n",
      "14371 / 14426\n",
      "14374 / 14426\n",
      "14377 / 14426\n",
      "14380 / 14426\n",
      "14383 / 14426\n",
      "14387 / 14426\n",
      "14390 / 14426\n",
      "14393 / 14426\n",
      "14396 / 14426\n",
      "14399 / 14426\n",
      "14402 / 14426\n",
      "14406 / 14426\n",
      "14409 / 14426\n",
      "14412 / 14426\n",
      "14415 / 14426\n",
      "14418 / 14426\n",
      "14421 / 14426\n",
      "14424 / 14426\n",
      "14427 / 14426\n"
     ]
    }
   ],
   "source": [
    "parse_video('I', f='.mp4')"
   ]
  },
  {
   "cell_type": "code",
   "execution_count": 11,
   "id": "f6b8fee6-3a4e-425d-a5ee-b1250a40a60b",
   "metadata": {},
   "outputs": [
    {
     "name": "stdout",
     "output_type": "stream",
     "text": [
      "1000 / 33147\n",
      "2000 / 33147\n",
      "3000 / 33147\n",
      "4000 / 33147\n",
      "5000 / 33147\n",
      "6000 / 33147\n",
      "7000 / 33147\n",
      "8000 / 33147\n",
      "9000 / 33147\n",
      "10000 / 33147\n",
      "11000 / 33147\n",
      "12000 / 33147\n",
      "13000 / 33147\n",
      "14000 / 33147\n",
      "15000 / 33147\n",
      "16000 / 33147\n",
      "17000 / 33147\n",
      "18000 / 33147\n",
      "19000 / 33147\n",
      "20000 / 33147\n",
      "21000 / 33147\n",
      "22000 / 33147\n",
      "23000 / 33147\n",
      "24000 / 33147\n",
      "25000 / 33147\n",
      "26000 / 33147\n",
      "27000 / 33147\n",
      "28000 / 33147\n",
      "29000 / 33147\n",
      "30000 / 33147\n",
      "31000 / 33147\n",
      "32000 / 33147\n",
      "33000 / 33147\n"
     ]
    }
   ],
   "source": [
    "parse_video('II', f='.mp4')"
   ]
  },
  {
   "cell_type": "code",
   "execution_count": 12,
   "id": "7860943f-1567-41f0-8fe7-8a374d7eb87d",
   "metadata": {},
   "outputs": [
    {
     "name": "stdout",
     "output_type": "stream",
     "text": [
      "1000 / 1969\n"
     ]
    }
   ],
   "source": [
    "parse_video('III_1', f='.mp4')"
   ]
  },
  {
   "cell_type": "code",
   "execution_count": 13,
   "id": "06580027-2443-4534-8bd4-b110d18c1f8d",
   "metadata": {},
   "outputs": [
    {
     "name": "stdout",
     "output_type": "stream",
     "text": [
      "1000 / 18565\n",
      "2000 / 18565\n",
      "3000 / 18565\n",
      "4000 / 18565\n",
      "5000 / 18565\n",
      "6000 / 18565\n",
      "7000 / 18565\n",
      "8000 / 18565\n",
      "9000 / 18565\n",
      "10000 / 18565\n",
      "11000 / 18565\n",
      "12000 / 18565\n",
      "13000 / 18565\n",
      "14000 / 18565\n",
      "15000 / 18565\n",
      "16000 / 18565\n",
      "17000 / 18565\n",
      "18000 / 18565\n"
     ]
    }
   ],
   "source": [
    "parse_video('III_2', f='.mp4')"
   ]
  },
  {
   "cell_type": "code",
   "execution_count": 14,
   "id": "28a8ea43-c2b1-4fd7-899e-5283333998e5",
   "metadata": {},
   "outputs": [
    {
     "name": "stdout",
     "output_type": "stream",
     "text": [
      "1000 / 30906\n",
      "2000 / 30906\n",
      "3000 / 30906\n",
      "4000 / 30906\n",
      "5000 / 30906\n",
      "6000 / 30906\n",
      "7000 / 30906\n",
      "8000 / 30906\n",
      "9000 / 30906\n",
      "10000 / 30906\n",
      "11000 / 30906\n",
      "12000 / 30906\n",
      "13000 / 30906\n",
      "14000 / 30906\n",
      "15000 / 30906\n",
      "16000 / 30906\n",
      "17000 / 30906\n",
      "18000 / 30906\n",
      "19000 / 30906\n",
      "20000 / 30906\n",
      "21000 / 30906\n",
      "22000 / 30906\n",
      "23000 / 30906\n",
      "24000 / 30906\n",
      "25000 / 30906\n",
      "26000 / 30906\n",
      "27000 / 30906\n",
      "28000 / 30906\n",
      "29000 / 30906\n",
      "30000 / 30906\n"
     ]
    }
   ],
   "source": [
    "parse_video('basic', f='.mov')"
   ]
  },
  {
   "cell_type": "code",
   "execution_count": 15,
   "id": "5f0658fa-fee5-481e-a829-068f9298b64a",
   "metadata": {},
   "outputs": [
    {
     "name": "stdout",
     "output_type": "stream",
     "text": [
      "1000 / 28084\n",
      "2000 / 28084\n",
      "3000 / 28084\n",
      "4000 / 28084\n",
      "5000 / 28084\n",
      "6000 / 28084\n",
      "7000 / 28084\n",
      "8000 / 28084\n",
      "9000 / 28084\n",
      "10000 / 28084\n",
      "11000 / 28084\n",
      "12000 / 28084\n",
      "13000 / 28084\n",
      "14000 / 28084\n",
      "15000 / 28084\n",
      "16000 / 28084\n",
      "17000 / 28084\n",
      "18000 / 28084\n",
      "19000 / 28084\n",
      "20000 / 28084\n",
      "21000 / 28084\n",
      "22000 / 28084\n",
      "23000 / 28084\n",
      "24000 / 28084\n",
      "25000 / 28084\n",
      "26000 / 28084\n",
      "27000 / 28084\n"
     ]
    }
   ],
   "source": [
    "parse_video('nothing', f='.mov')"
   ]
  },
  {
   "cell_type": "code",
   "execution_count": 16,
   "id": "96f4e016-5e4d-4726-ad10-34e124f9a5d3",
   "metadata": {},
   "outputs": [
    {
     "name": "stdout",
     "output_type": "stream",
     "text": [
      "1000 / 33733\n",
      "2000 / 33733\n",
      "3000 / 33733\n",
      "4000 / 33733\n",
      "5000 / 33733\n",
      "6000 / 33733\n",
      "7000 / 33733\n",
      "8000 / 33733\n",
      "9000 / 33733\n",
      "10000 / 33733\n",
      "11000 / 33733\n",
      "12000 / 33733\n",
      "13000 / 33733\n",
      "14000 / 33733\n",
      "15000 / 33733\n",
      "16000 / 33733\n",
      "17000 / 33733\n",
      "18000 / 33733\n",
      "19000 / 33733\n",
      "20000 / 33733\n",
      "21000 / 33733\n",
      "22000 / 33733\n",
      "23000 / 33733\n",
      "24000 / 33733\n",
      "25000 / 33733\n",
      "26000 / 33733\n",
      "27000 / 33733\n",
      "28000 / 33733\n",
      "29000 / 33733\n",
      "30000 / 33733\n",
      "31000 / 33733\n",
      "32000 / 33733\n",
      "33000 / 33733\n"
     ]
    }
   ],
   "source": [
    "parse_video('simple', f='.mov')"
   ]
  },
  {
   "cell_type": "code",
   "execution_count": null,
   "id": "e7c0b662-f08f-424c-a5b5-3c164bbe99f4",
   "metadata": {},
   "outputs": [],
   "source": []
  }
 ],
 "metadata": {
  "kernelspec": {
   "display_name": "Python 3 (ipykernel)",
   "language": "python",
   "name": "python3"
  },
  "language_info": {
   "codemirror_mode": {
    "name": "ipython",
    "version": 3
   },
   "file_extension": ".py",
   "mimetype": "text/x-python",
   "name": "python",
   "nbconvert_exporter": "python",
   "pygments_lexer": "ipython3",
   "version": "3.10.2"
  }
 },
 "nbformat": 4,
 "nbformat_minor": 5
}
