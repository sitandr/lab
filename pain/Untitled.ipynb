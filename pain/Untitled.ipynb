{
 "cells": [
  {
   "cell_type": "code",
   "execution_count": 57,
   "id": "direct-detail",
   "metadata": {},
   "outputs": [],
   "source": [
    "import pandas as pd\n",
    "import matplotlib.pyplot as plt\n",
    "import numpy as np\n",
    "import re\n",
    "from scipy.optimize import curve_fit, minimize"
   ]
  },
  {
   "cell_type": "code",
   "execution_count": 58,
   "id": "electoral-weight",
   "metadata": {},
   "outputs": [],
   "source": [
    "df = pd.read_csv(\"src/co_2_series.csv\", sep=\";\", comment=\"#\")"
   ]
  },
  {
   "cell_type": "code",
   "execution_count": 59,
   "id": "protecting-foundation",
   "metadata": {},
   "outputs": [
    {
     "data": {
      "text/html": [
       "<div>\n",
       "<style scoped>\n",
       "    .dataframe tbody tr th:only-of-type {\n",
       "        vertical-align: middle;\n",
       "    }\n",
       "\n",
       "    .dataframe tbody tr th {\n",
       "        vertical-align: top;\n",
       "    }\n",
       "\n",
       "    .dataframe thead th {\n",
       "        text-align: right;\n",
       "    }\n",
       "</style>\n",
       "<table border=\"1\" class=\"dataframe\">\n",
       "  <thead>\n",
       "    <tr style=\"text-align: right;\">\n",
       "      <th></th>\n",
       "      <th>t</th>\n",
       "      <th>T</th>\n",
       "    </tr>\n",
       "  </thead>\n",
       "  <tbody>\n",
       "    <tr>\n",
       "      <th>0</th>\n",
       "      <td>0:00</td>\n",
       "      <td>(0, 00, None)</td>\n",
       "    </tr>\n",
       "    <tr>\n",
       "      <th>1</th>\n",
       "      <td>0:18.3</td>\n",
       "      <td>(0, 18.3, .3)</td>\n",
       "    </tr>\n",
       "    <tr>\n",
       "      <th>2</th>\n",
       "      <td>0:37</td>\n",
       "      <td>(0, 37, None)</td>\n",
       "    </tr>\n",
       "    <tr>\n",
       "      <th>3</th>\n",
       "      <td>0:55</td>\n",
       "      <td>(0, 55, None)</td>\n",
       "    </tr>\n",
       "    <tr>\n",
       "      <th>4</th>\n",
       "      <td>1:13</td>\n",
       "      <td>(1, 13, None)</td>\n",
       "    </tr>\n",
       "    <tr>\n",
       "      <th>5</th>\n",
       "      <td>1:32</td>\n",
       "      <td>(1, 32, None)</td>\n",
       "    </tr>\n",
       "    <tr>\n",
       "      <th>6</th>\n",
       "      <td>1:48</td>\n",
       "      <td>(1, 48, None)</td>\n",
       "    </tr>\n",
       "    <tr>\n",
       "      <th>7</th>\n",
       "      <td>2:07</td>\n",
       "      <td>(2, 07, None)</td>\n",
       "    </tr>\n",
       "    <tr>\n",
       "      <th>8</th>\n",
       "      <td>2:25</td>\n",
       "      <td>(2, 25, None)</td>\n",
       "    </tr>\n",
       "    <tr>\n",
       "      <th>9</th>\n",
       "      <td>2:42</td>\n",
       "      <td>(2, 42, None)</td>\n",
       "    </tr>\n",
       "    <tr>\n",
       "      <th>10</th>\n",
       "      <td>3:01</td>\n",
       "      <td>(3, 01, None)</td>\n",
       "    </tr>\n",
       "    <tr>\n",
       "      <th>11</th>\n",
       "      <td>3:20</td>\n",
       "      <td>(3, 20, None)</td>\n",
       "    </tr>\n",
       "    <tr>\n",
       "      <th>12</th>\n",
       "      <td>3:37</td>\n",
       "      <td>(3, 37, None)</td>\n",
       "    </tr>\n",
       "    <tr>\n",
       "      <th>13</th>\n",
       "      <td>3:54</td>\n",
       "      <td>(3, 54, None)</td>\n",
       "    </tr>\n",
       "    <tr>\n",
       "      <th>14</th>\n",
       "      <td>4:13</td>\n",
       "      <td>(4, 13, None)</td>\n",
       "    </tr>\n",
       "    <tr>\n",
       "      <th>15</th>\n",
       "      <td>4:31</td>\n",
       "      <td>(4, 31, None)</td>\n",
       "    </tr>\n",
       "    <tr>\n",
       "      <th>16</th>\n",
       "      <td>4:50</td>\n",
       "      <td>(4, 50, None)</td>\n",
       "    </tr>\n",
       "    <tr>\n",
       "      <th>17</th>\n",
       "      <td>5:07</td>\n",
       "      <td>(5, 07, None)</td>\n",
       "    </tr>\n",
       "    <tr>\n",
       "      <th>18</th>\n",
       "      <td>5:27</td>\n",
       "      <td>(5, 27, None)</td>\n",
       "    </tr>\n",
       "    <tr>\n",
       "      <th>19</th>\n",
       "      <td>5:44</td>\n",
       "      <td>(5, 44, None)</td>\n",
       "    </tr>\n",
       "    <tr>\n",
       "      <th>20</th>\n",
       "      <td>6:01</td>\n",
       "      <td>(6, 01, None)</td>\n",
       "    </tr>\n",
       "    <tr>\n",
       "      <th>21</th>\n",
       "      <td>6:20</td>\n",
       "      <td>(6, 20, None)</td>\n",
       "    </tr>\n",
       "    <tr>\n",
       "      <th>22</th>\n",
       "      <td>6:37</td>\n",
       "      <td>(6, 37, None)</td>\n",
       "    </tr>\n",
       "    <tr>\n",
       "      <th>23</th>\n",
       "      <td>6:54</td>\n",
       "      <td>(6, 54, None)</td>\n",
       "    </tr>\n",
       "    <tr>\n",
       "      <th>24</th>\n",
       "      <td>7:14</td>\n",
       "      <td>(7, 14, None)</td>\n",
       "    </tr>\n",
       "    <tr>\n",
       "      <th>25</th>\n",
       "      <td>7:32</td>\n",
       "      <td>(7, 32, None)</td>\n",
       "    </tr>\n",
       "    <tr>\n",
       "      <th>26</th>\n",
       "      <td>7:50</td>\n",
       "      <td>(7, 50, None)</td>\n",
       "    </tr>\n",
       "    <tr>\n",
       "      <th>27</th>\n",
       "      <td>8:09</td>\n",
       "      <td>(8, 09, None)</td>\n",
       "    </tr>\n",
       "    <tr>\n",
       "      <th>28</th>\n",
       "      <td>8:25</td>\n",
       "      <td>(8, 25, None)</td>\n",
       "    </tr>\n",
       "    <tr>\n",
       "      <th>29</th>\n",
       "      <td>8:43</td>\n",
       "      <td>(8, 43, None)</td>\n",
       "    </tr>\n",
       "    <tr>\n",
       "      <th>30</th>\n",
       "      <td>9:01</td>\n",
       "      <td>(9, 01, None)</td>\n",
       "    </tr>\n",
       "    <tr>\n",
       "      <th>31</th>\n",
       "      <td>9:19</td>\n",
       "      <td>(9, 19, None)</td>\n",
       "    </tr>\n",
       "    <tr>\n",
       "      <th>32</th>\n",
       "      <td>9:37</td>\n",
       "      <td>(9, 37, None)</td>\n",
       "    </tr>\n",
       "    <tr>\n",
       "      <th>33</th>\n",
       "      <td>9:54</td>\n",
       "      <td>(9, 54, None)</td>\n",
       "    </tr>\n",
       "  </tbody>\n",
       "</table>\n",
       "</div>"
      ],
      "text/plain": [
       "         t              T\n",
       "0     0:00  (0, 00, None)\n",
       "1   0:18.3  (0, 18.3, .3)\n",
       "2     0:37  (0, 37, None)\n",
       "3     0:55  (0, 55, None)\n",
       "4     1:13  (1, 13, None)\n",
       "5    1:32   (1, 32, None)\n",
       "6     1:48  (1, 48, None)\n",
       "7     2:07  (2, 07, None)\n",
       "8     2:25  (2, 25, None)\n",
       "9     2:42  (2, 42, None)\n",
       "10    3:01  (3, 01, None)\n",
       "11   3:20   (3, 20, None)\n",
       "12   3:37   (3, 37, None)\n",
       "13    3:54  (3, 54, None)\n",
       "14    4:13  (4, 13, None)\n",
       "15   4:31   (4, 31, None)\n",
       "16    4:50  (4, 50, None)\n",
       "17   5:07   (5, 07, None)\n",
       "18    5:27  (5, 27, None)\n",
       "19    5:44  (5, 44, None)\n",
       "20    6:01  (6, 01, None)\n",
       "21    6:20  (6, 20, None)\n",
       "22    6:37  (6, 37, None)\n",
       "23    6:54  (6, 54, None)\n",
       "24    7:14  (7, 14, None)\n",
       "25    7:32  (7, 32, None)\n",
       "26   7:50   (7, 50, None)\n",
       "27    8:09  (8, 09, None)\n",
       "28    8:25  (8, 25, None)\n",
       "29    8:43  (8, 43, None)\n",
       "30    9:01  (9, 01, None)\n",
       "31    9:19  (9, 19, None)\n",
       "32    9:37  (9, 37, None)\n",
       "33    9:54  (9, 54, None)"
      ]
     },
     "execution_count": 59,
     "metadata": {},
     "output_type": "execute_result"
    }
   ],
   "source": [
    "\n",
    "df['T'] = df['t'].apply(lambda s: re.match(\"(-?\\d\\d?):(\\d\\d(.\\d+)?)\", s).groups())\n",
    "df"
   ]
  },
  {
   "cell_type": "code",
   "execution_count": 60,
   "id": "intense-newsletter",
   "metadata": {},
   "outputs": [],
   "source": [
    "df['s'] = df['T'].apply(lambda t: int(t[0])*60 + float(t[1]))"
   ]
  },
  {
   "cell_type": "code",
   "execution_count": 80,
   "id": "infrared-throw",
   "metadata": {},
   "outputs": [
    {
     "data": {
      "text/plain": [
       "(array([ 5.5577442 , -8.25733272]), array([0.00758704, 3.09412502]))"
      ]
     },
     "execution_count": 80,
     "metadata": {},
     "output_type": "execute_result"
    },
    {
     "data": {
      "application/vnd.jupyter.widget-view+json": {
       "model_id": "510e5b943ac343a094320d8a1539dc4a",
       "version_major": 2,
       "version_minor": 0
      },
      "text/html": [
       "\n",
       "            <div style=\"display: inline-block;\">\n",
       "                <div class=\"jupyter-widgets widget-label\" style=\"text-align: center;\">\n",
       "                    Figure\n",
       "                </div>\n",
       "                <img src='data:image/png;base64,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' width=640.0/>\n",
       "            </div>\n",
       "        "
      ],
      "text/plain": [
       "Canvas(toolbar=Toolbar(toolitems=[('Home', 'Reset original view', 'home', 'home'), ('Back', 'Back to previous …"
      ]
     },
     "metadata": {},
     "output_type": "display_data"
    }
   ],
   "source": [
    "%matplotlib widget\n",
    "\n",
    "plt.scatter(df['s'], np.arange(0, len(df['s'])) * 100, s=2, label=\"эксперимент\")\n",
    "\n",
    "f = lambda x, a, b: a*x + b\n",
    "res, err = curve_fit(f, df['s'][10:],  np.arange(10, len(df['s'])) * 100, maxfev=10_000)\n",
    "\n",
    "plt.plot(df['s'], f(df['s'], *res), lw=1, label=\"линейная аппроксимация\")\n",
    "plt.ylabel(\"Число прерываний\")\n",
    "plt.xlabel(\"Прошедшее время, с\")\n",
    "plt.legend()\n",
    "plt.savefig(\"CO2.png\", dpi=300)\n",
    "\n",
    "res, np.sqrt(np.diag(err))"
   ]
  },
  {
   "cell_type": "code",
   "execution_count": 70,
   "id": "incorrect-rwanda",
   "metadata": {},
   "outputs": [
    {
     "data": {
      "text/plain": [
       "0.35985823169047615"
      ]
     },
     "execution_count": 70,
     "metadata": {},
     "output_type": "execute_result"
    }
   ],
   "source": [
    "5.5577442 # 2ν = N/t = 2/T; T = 2/(2ν)\n",
    "2/5.5577442"
   ]
  },
  {
   "cell_type": "code",
   "execution_count": 33,
   "id": "increasing-sucking",
   "metadata": {},
   "outputs": [
    {
     "ename": "TypeError",
     "evalue": "unsupported operand type(s) for +: 'int' and 'NoneType'",
     "output_type": "error",
     "traceback": [
      "\u001b[1;31m---------------------------------------------------------------------------\u001b[0m",
      "\u001b[1;31mTypeError\u001b[0m                                 Traceback (most recent call last)",
      "\u001b[1;32m<ipython-input-33-13b2d3b13c5c>\u001b[0m in \u001b[0;36m<module>\u001b[1;34m\u001b[0m\n\u001b[1;32m----> 1\u001b[1;33m \u001b[1;36m5\u001b[0m \u001b[1;33m+\u001b[0m \u001b[1;32mNone\u001b[0m\u001b[1;33m\u001b[0m\u001b[1;33m\u001b[0m\u001b[0m\n\u001b[0m",
      "\u001b[1;31mTypeError\u001b[0m: unsupported operand type(s) for +: 'int' and 'NoneType'"
     ]
    }
   ],
   "source": [
    "5 + None"
   ]
  },
  {
   "cell_type": "code",
   "execution_count": null,
   "id": "anonymous-group",
   "metadata": {},
   "outputs": [],
   "source": []
  }
 ],
 "metadata": {
  "kernelspec": {
   "display_name": "Python 3",
   "language": "python",
   "name": "python3"
  },
  "language_info": {
   "codemirror_mode": {
    "name": "ipython",
    "version": 3
   },
   "file_extension": ".py",
   "mimetype": "text/x-python",
   "name": "python",
   "nbconvert_exporter": "python",
   "pygments_lexer": "ipython3",
   "version": "3.7.5"
  }
 },
 "nbformat": 4,
 "nbformat_minor": 5
}
