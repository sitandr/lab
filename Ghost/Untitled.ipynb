{
 "cells": [
  {
   "cell_type": "code",
   "execution_count": 1,
   "id": "dental-paragraph",
   "metadata": {},
   "outputs": [],
   "source": [
    "import matplotlib.pyplot as plt"
   ]
  },
  {
   "cell_type": "code",
   "execution_count": 2,
   "id": "weekly-marketplace",
   "metadata": {},
   "outputs": [],
   "source": [
    "import pandas as pd\n",
    "import numpy as np"
   ]
  },
  {
   "cell_type": "code",
   "execution_count": 3,
   "id": "filled-aquatic",
   "metadata": {},
   "outputs": [],
   "source": [
    "color_map = dict(zip(['Z', 'R', 'O', 'Y', 'G', 'C', 'B', 'V', 'S', 'K'],\n",
    "                     ['black', 'red', 'orange', 'yellow', 'springgreen', 'cyan', 'blue', 'violet', 'lime', 'darkorange']))\n",
    "\n",
    "@np.vectorize\n",
    "def convert(c):\n",
    "    return color_map[c]"
   ]
  },
  {
   "cell_type": "code",
   "execution_count": 4,
   "id": "literary-religious",
   "metadata": {},
   "outputs": [],
   "source": [
    "def read(file, reverse=False, zero=True, maxes=True):\n",
    "    data = pd.read_csv(file, sep=' ', comment='#', header=None)\n",
    "    if reverse: data = data.reindex(index=data.index[::-1]); data = data.reset_index(drop=True)\n",
    "    data[1] += data[2]/60\n",
    "   # print(data[0])\n",
    "    if maxes:\n",
    "        data[2] = data[0].apply(lambda t: t[1])\n",
    "    else:\n",
    "        del data[2]\n",
    "    data[0] = data[0].apply(lambda t: t[0])\n",
    "    \n",
    "    if zero:\n",
    "        data[1] -= data[1][0]\n",
    "        data = data.drop(index=0)\n",
    "    return data\n",
    "\n",
    "def calculate_averages(data):\n",
    "    #data = np.array(data)\n",
    "    s = set(data[0])\n",
    "    a = {}\n",
    "    for c in s:\n",
    "        a[c] = np.average(np.abs(data[np.logical_and((data[0] == c), (data[1] == data[1]))][1]))\n",
    "    return a"
   ]
  },
  {
   "cell_type": "code",
   "execution_count": 5,
   "id": "demographic-gardening",
   "metadata": {},
   "outputs": [],
   "source": [
    "def difr_angle_to_λ(angles, max_num):\n",
    "    return np.sin(np.radians(np.abs(np.array(angles, dtype=float))))*(1e-3/500)/np.array(max_num,dtype=float)/1e-9"
   ]
  },
  {
   "cell_type": "code",
   "execution_count": 6,
   "id": "stopped-poetry",
   "metadata": {},
   "outputs": [],
   "source": [
    "def calculate_average(data):\n",
    "    d_filter = data[data[1]== data[1]]\n",
    "    d_filter = d_filter.assign(λ=difr_angle_to_λ(d_filter[1], d_filter[2]))\n",
    "    #print(list(d_filter.groupby(0)))\n",
    "\n",
    "    return d_filter.groupby(0).apply(lambda t: np.average(t['λ']))"
   ]
  },
  {
   "cell_type": "code",
   "execution_count": 7,
   "id": "varying-pasta",
   "metadata": {},
   "outputs": [],
   "source": [
    "@np.vectorize\n",
    "def wavelength_to_rgb(wavelength, gamma=0.8):\n",
    "    ''' taken from http://www.noah.org/wiki/Wavelength_to_RGB_in_Python\n",
    "    This converts a given wavelength of light to an \n",
    "    approximate RGB color value. The wavelength must be given\n",
    "    in nanometers in the range from 380 nm through 750 nm\n",
    "    (789 THz through 400 THz).\n",
    "\n",
    "    Based on code by Dan Bruton\n",
    "    http://www.physics.sfasu.edu/astro/color/spectra.html\n",
    "    Additionally alpha value set to 0.5 outside range\n",
    "    '''\n",
    "    wavelength = float(wavelength)\n",
    "    if wavelength >= 380 and wavelength <= 750:\n",
    "        A = 1.\n",
    "    else:\n",
    "        A=0.5\n",
    "    if wavelength < 380:\n",
    "        wavelength = 380.\n",
    "    if wavelength >750:\n",
    "        wavelength = 750.\n",
    "    if wavelength >= 380 and wavelength <= 440:\n",
    "        attenuation = 0.3 + 0.7 * (wavelength - 380) / (440 - 380)\n",
    "        R = ((-(wavelength - 440) / (440 - 380)) * attenuation) ** gamma\n",
    "        G = 0.0\n",
    "        B = (1.0 * attenuation) ** gamma\n",
    "    elif wavelength >= 440 and wavelength <= 490:\n",
    "        R = 0.0\n",
    "        G = ((wavelength - 440) / (490 - 440)) ** gamma\n",
    "        B = 1.0\n",
    "    elif wavelength >= 490 and wavelength <= 510:\n",
    "        R = 0.0\n",
    "        G = 1.0\n",
    "        B = (-(wavelength - 510) / (510 - 490)) ** gamma\n",
    "    elif wavelength >= 510 and wavelength <= 580:\n",
    "        R = ((wavelength - 510) / (580 - 510)) ** gamma\n",
    "        G = 1.0\n",
    "        B = 0.0\n",
    "    elif wavelength >= 580 and wavelength <= 645:\n",
    "        R = 1.0\n",
    "        G = (-(wavelength - 645) / (645 - 580)) ** gamma\n",
    "        B = 0.0\n",
    "    elif wavelength >= 645 and wavelength <= 750:\n",
    "        attenuation = 0.3 + 0.7 * (750 - wavelength) / (750 - 645)\n",
    "        R = (1.0 * attenuation) ** gamma\n",
    "        G = 0.0\n",
    "        B = 0.0\n",
    "    else:\n",
    "        R = 0.0\n",
    "        G = 0.0\n",
    "        B = 0.0\n",
    "    return (R,G,B,A)"
   ]
  },
  {
   "cell_type": "code",
   "execution_count": 8,
   "id": "leading-blowing",
   "metadata": {},
   "outputs": [],
   "source": [
    "data = read('HG.txt')\n",
    "data2 = read('HG_2.txt', reverse=True)\n",
    "#%matplotlib widget\n",
    "#plt.scatter(data[0], data[1], c=convert(data[0]))\n",
    "#plt.show()"
   ]
  },
  {
   "cell_type": "code",
   "execution_count": 9,
   "id": "satellite-finish",
   "metadata": {},
   "outputs": [],
   "source": [
    "#%matplotlib widget\n",
    "#plt.scatter(data2[0], data2[1], c=convert(data2[0]))\n",
    "#print(data2)\n",
    "#plt.show()"
   ]
  },
  {
   "cell_type": "code",
   "execution_count": 10,
   "id": "described-hierarchy",
   "metadata": {},
   "outputs": [
    {
     "data": {
      "application/vnd.jupyter.widget-view+json": {
       "model_id": "2413ec4099f24df9be5ec80d269b9852",
       "version_major": 2,
       "version_minor": 0
      },
      "text/html": [
       "\n",
       "            <div style=\"display: inline-block;\">\n",
       "                <div class=\"jupyter-widgets widget-label\" style=\"text-align: center;\">\n",
       "                    Figure\n",
       "                </div>\n",
       "                <img src='data:image/png;base64,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' width=640.0/>\n",
       "            </div>\n",
       "        "
      ],
      "text/plain": [
       "Canvas(toolbar=Toolbar(toolitems=[('Home', 'Reset original view', 'home', 'home'), ('Back', 'Back to previous …"
      ]
     },
     "metadata": {},
     "output_type": "display_data"
    }
   ],
   "source": [
    "data1 = read('HG.txt')\n",
    "\n",
    "%matplotlib widget\n",
    "plt.vlines(data1[1], 0, 0.5, colors=convert(data1[0]))\n",
    "plt.vlines(data2[1], 0.5, 1, colors=convert(data2[0]))\n",
    "#plt.scatter(data2[1], np.zeros(len(data2[1])), c=convert(data2[0]), s=3)\n",
    "#plt.scatter(data1[1], np.ones(len(data1[1])), c=convert(data1[0]), s=3)\n",
    "plt.show()"
   ]
  },
  {
   "cell_type": "code",
   "execution_count": 126,
   "id": "activated-queen",
   "metadata": {},
   "outputs": [
    {
     "name": "stderr",
     "output_type": "stream",
     "text": [
      "c:\\users\\user\\appdata\\local\\programs\\python\\python37\\lib\\site-packages\\numpy\\lib\\function_base.py:2246: RuntimeWarning: invalid value encountered in wavelength_to_rgb (vectorized)\n",
      "  outputs = ufunc(*inputs)\n"
     ]
    },
    {
     "data": {
      "text/plain": [
       "<matplotlib.collections.LineCollection at 0x25013e48>"
      ]
     },
     "execution_count": 126,
     "metadata": {},
     "output_type": "execute_result"
    },
    {
     "data": {
      "application/vnd.jupyter.widget-view+json": {
       "model_id": "88b852be84f5495fb8dcd24e27b3bc1f",
       "version_major": 2,
       "version_minor": 0
      },
      "text/html": [
       "\n",
       "            <div style=\"display: inline-block;\">\n",
       "                <div class=\"jupyter-widgets widget-label\" style=\"text-align: center;\">\n",
       "                    Figure\n",
       "                </div>\n",
       "                <img src='data:image/png;base64,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' width=640.0/>\n",
       "            </div>\n",
       "        "
      ],
      "text/plain": [
       "Canvas(toolbar=Toolbar(toolitems=[('Home', 'Reset original view', 'home', 'home'), ('Back', 'Back to previous …"
      ]
     },
     "metadata": {},
     "output_type": "display_data"
    }
   ],
   "source": [
    "\n",
    "%matplotlib widget\n",
    "fig, ax = plt.subplots()\n",
    "#sax = ax.secondary_yaxis('right')\n",
    "ax.set_yticks([0.25, 0.75, 1.25], ['От окуляра','К окуляру', 'Среднее'])\n",
    "ax.set_xlabel(\"Длина волны, нм\")\n",
    "d1 = difr_angle_to_λ(data[1], data[2])\n",
    "#print(d1)\n",
    "plt.vlines(d1, 0, 0.5, colors=np.array(wavelength_to_rgb(d1)).swapaxes(0,1), linestyle=\":\")\n",
    "plt.vlines(calculate_average(data1), 0, 0.5, colors=(np.array(wavelength_to_rgb(calculate_average(data1)))*0.8).swapaxes(0,1))\n",
    "\n",
    "d2 = difr_angle_to_λ(data2[1], data2[2])\n",
    "plt.vlines(d2, 0.5, 1.0, colors=np.array(wavelength_to_rgb(d2)).swapaxes(0,1), linestyle=\":\")\n",
    "plt.vlines(calculate_average(data2), 0.5, 1.0, colors=(np.array(wavelength_to_rgb(calculate_average(data2)))*0.8).swapaxes(0,1))\n",
    "\n",
    "total_average = (calculate_average(data2) + calculate_average(data1))/2\n",
    "\n",
    "plt.vlines(total_average, 1.0, 1.5, colors=(np.array(wavelength_to_rgb(total_average))).swapaxes(0,1))"
   ]
  },
  {
   "cell_type": "code",
   "execution_count": 12,
   "id": "identified-position",
   "metadata": {},
   "outputs": [],
   "source": [
    "all_ = data\n",
    "all_ = data.append(data2, ignore_index=True)\n",
    "all_ = all_.assign(λ=np.concatenate((d1, d2)))\n",
    "#all_ = all_.assign(λ=d1)\n",
    "all_ = all_[all_ == all_]\n"
   ]
  },
  {
   "cell_type": "code",
   "execution_count": 13,
   "id": "accompanied-chemical",
   "metadata": {},
   "outputs": [
    {
     "data": {
      "text/plain": [
       "0\n",
       "B    2.226831\n",
       "C    2.727076\n",
       "G    3.466067\n",
       "O    3.390927\n",
       "R    1.629865\n",
       "V    4.446185\n",
       "Y    2.481833\n",
       "dtype: float64"
      ]
     },
     "execution_count": 13,
     "metadata": {},
     "output_type": "execute_result"
    }
   ],
   "source": [
    "all_.groupby(0).apply(lambda t: np.std(t['λ']))"
   ]
  },
  {
   "cell_type": "code",
   "execution_count": 14,
   "id": "convinced-advertising",
   "metadata": {},
   "outputs": [
    {
     "name": "stdout",
     "output_type": "stream",
     "text": [
      "| 0   |      0 |\n",
      "|:----|-------:|\n",
      "| Y   | 575.14 |\n",
      "| V   | 401.9  |\n",
      "| R   | 620.94 |\n",
      "| O   | 578.92 |\n",
      "| G   | 545.65 |\n",
      "| C   | 489.66 |\n",
      "| B   | 434.55 |\n"
     ]
    }
   ],
   "source": [
    "print(np.round(total_average, 2)[::-1].to_markdown())"
   ]
  },
  {
   "cell_type": "code",
   "execution_count": 15,
   "id": "loving-combining",
   "metadata": {},
   "outputs": [
    {
     "data": {
      "text/html": [
       "<div>\n",
       "<style scoped>\n",
       "    .dataframe tbody tr th:only-of-type {\n",
       "        vertical-align: middle;\n",
       "    }\n",
       "\n",
       "    .dataframe tbody tr th {\n",
       "        vertical-align: top;\n",
       "    }\n",
       "\n",
       "    .dataframe thead th {\n",
       "        text-align: right;\n",
       "    }\n",
       "</style>\n",
       "<table border=\"1\" class=\"dataframe\">\n",
       "  <thead>\n",
       "    <tr style=\"text-align: right;\">\n",
       "      <th></th>\n",
       "      <th>0</th>\n",
       "      <th>1</th>\n",
       "    </tr>\n",
       "  </thead>\n",
       "  <tbody>\n",
       "    <tr>\n",
       "      <th>0</th>\n",
       "      <td>R</td>\n",
       "      <td>211.166667</td>\n",
       "    </tr>\n",
       "    <tr>\n",
       "      <th>1</th>\n",
       "      <td>O</td>\n",
       "      <td>210.633333</td>\n",
       "    </tr>\n",
       "    <tr>\n",
       "      <th>2</th>\n",
       "      <td>G</td>\n",
       "      <td>210.366667</td>\n",
       "    </tr>\n",
       "    <tr>\n",
       "      <th>3</th>\n",
       "      <td>C</td>\n",
       "      <td>209.716667</td>\n",
       "    </tr>\n",
       "    <tr>\n",
       "      <th>4</th>\n",
       "      <td>B</td>\n",
       "      <td>208.733333</td>\n",
       "    </tr>\n",
       "    <tr>\n",
       "      <th>5</th>\n",
       "      <td>V</td>\n",
       "      <td>207.683333</td>\n",
       "    </tr>\n",
       "    <tr>\n",
       "      <th>6</th>\n",
       "      <td>R</td>\n",
       "      <td>370.166667</td>\n",
       "    </tr>\n",
       "    <tr>\n",
       "      <th>7</th>\n",
       "      <td>Y</td>\n",
       "      <td>307.400000</td>\n",
       "    </tr>\n",
       "    <tr>\n",
       "      <th>8</th>\n",
       "      <td>G</td>\n",
       "      <td>307.866667</td>\n",
       "    </tr>\n",
       "    <tr>\n",
       "      <th>9</th>\n",
       "      <td>C</td>\n",
       "      <td>308.600000</td>\n",
       "    </tr>\n",
       "    <tr>\n",
       "      <th>10</th>\n",
       "      <td>B</td>\n",
       "      <td>309.750000</td>\n",
       "    </tr>\n",
       "    <tr>\n",
       "      <th>11</th>\n",
       "      <td>V</td>\n",
       "      <td>310.616667</td>\n",
       "    </tr>\n",
       "  </tbody>\n",
       "</table>\n",
       "</div>"
      ],
      "text/plain": [
       "    0           1\n",
       "0   R  211.166667\n",
       "1   O  210.633333\n",
       "2   G  210.366667\n",
       "3   C  209.716667\n",
       "4   B  208.733333\n",
       "5   V  207.683333\n",
       "6   R  370.166667\n",
       "7   Y  307.400000\n",
       "8   G  307.866667\n",
       "9   C  308.600000\n",
       "10  B  309.750000\n",
       "11  V  310.616667"
      ]
     },
     "execution_count": 15,
     "metadata": {},
     "output_type": "execute_result"
    }
   ],
   "source": []
  },
  {
   "cell_type": "code",
   "execution_count": null,
   "id": "threaded-manchester",
   "metadata": {},
   "outputs": [],
   "source": []
  },
  {
   "cell_type": "code",
   "execution_count": 16,
   "id": "disabled-grammar",
   "metadata": {},
   "outputs": [],
   "source": [
    "data3 = read('Na.txt', reverse=True)"
   ]
  },
  {
   "cell_type": "code",
   "execution_count": 17,
   "id": "atomic-sigma",
   "metadata": {},
   "outputs": [
    {
     "data": {
      "text/plain": [
       "<matplotlib.collections.LineCollection at 0x1484b048>"
      ]
     },
     "execution_count": 17,
     "metadata": {},
     "output_type": "execute_result"
    },
    {
     "data": {
      "application/vnd.jupyter.widget-view+json": {
       "model_id": "6cd94a52254e480d9c6374cb6cb84662",
       "version_major": 2,
       "version_minor": 0
      },
      "text/html": [
       "\n",
       "            <div style=\"display: inline-block;\">\n",
       "                <div class=\"jupyter-widgets widget-label\" style=\"text-align: center;\">\n",
       "                    Figure\n",
       "                </div>\n",
       "                <img src='data:image/png;base64,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' width=640.0/>\n",
       "            </div>\n",
       "        "
      ],
      "text/plain": [
       "Canvas(toolbar=Toolbar(toolitems=[('Home', 'Reset original view', 'home', 'home'), ('Back', 'Back to previous …"
      ]
     },
     "metadata": {},
     "output_type": "display_data"
    }
   ],
   "source": [
    "%matplotlib widget\n",
    "\n",
    "fig, ax = plt.subplots()\n",
    "\n",
    "\n",
    "ax.set_xlabel(\"Длина волны, нм\")\n",
    "ax.set_yticks([0.25, 0.75], ['Измерение', 'Среднее'])\n",
    "\n",
    "d3 = np.round(np.sin(np.radians(np.abs(data3[1])))*(1e-3/500)/np.array(data3[2],dtype=float)/1e-9, 2)\n",
    "#sax = ax.secondary_yaxis('right')\n",
    "#ax.set_yticks([0.25, 0.75], ['Left','Right'])\n",
    "plt.vlines(d3, 0, 0.5, colors=np.array(wavelength_to_rgb(d3)).swapaxes(0,1))\n",
    "#print(data3[0], d3)\n",
    "plt.vlines(calculate_average(data3), 0.5, 1.0, colors=(np.array(wavelength_to_rgb(calculate_average(data3)))*0.8).swapaxes(0,1))\n",
    "#convert(data3[0]))"
   ]
  },
  {
   "cell_type": "code",
   "execution_count": 18,
   "id": "spectacular-mission",
   "metadata": {},
   "outputs": [
    {
     "name": "stdout",
     "output_type": "stream",
     "text": [
      "| 0   |      0 |\n",
      "|:----|-------:|\n",
      "| R   | 615.82 |\n",
      "| K   | 590.3  |\n",
      "| O   | 588.8  |\n",
      "| Y   | 567.86 |\n",
      "| S   | 513.14 |\n",
      "| G   | 498.22 |\n",
      "| C   | 490.9  |\n",
      "| B   | 464.06 |\n",
      "| V   | 453.59 |\n"
     ]
    }
   ],
   "source": [
    "print(np.round(calculate_average(data3).sort_values(0, ascending=False), 2).to_markdown())"
   ]
  },
  {
   "cell_type": "code",
   "execution_count": 19,
   "id": "chief-perry",
   "metadata": {},
   "outputs": [
    {
     "data": {
      "text/html": [
       "<div>\n",
       "<style scoped>\n",
       "    .dataframe tbody tr th:only-of-type {\n",
       "        vertical-align: middle;\n",
       "    }\n",
       "\n",
       "    .dataframe tbody tr th {\n",
       "        vertical-align: top;\n",
       "    }\n",
       "\n",
       "    .dataframe thead th {\n",
       "        text-align: right;\n",
       "    }\n",
       "</style>\n",
       "<table border=\"1\" class=\"dataframe\">\n",
       "  <thead>\n",
       "    <tr style=\"text-align: right;\">\n",
       "      <th></th>\n",
       "      <th>0</th>\n",
       "      <th>1</th>\n",
       "      <th>2</th>\n",
       "    </tr>\n",
       "  </thead>\n",
       "  <tbody>\n",
       "    <tr>\n",
       "      <th>21</th>\n",
       "      <td>O</td>\n",
       "      <td>-36.116667</td>\n",
       "      <td>2</td>\n",
       "    </tr>\n",
       "    <tr>\n",
       "      <th>20</th>\n",
       "      <td>Y</td>\n",
       "      <td>-34.633333</td>\n",
       "      <td>2</td>\n",
       "    </tr>\n",
       "    <tr>\n",
       "      <th>11</th>\n",
       "      <td>R</td>\n",
       "      <td>-17.983333</td>\n",
       "      <td>1</td>\n",
       "    </tr>\n",
       "    <tr>\n",
       "      <th>12</th>\n",
       "      <td>K</td>\n",
       "      <td>-17.183333</td>\n",
       "      <td>1</td>\n",
       "    </tr>\n",
       "    <tr>\n",
       "      <th>13</th>\n",
       "      <td>O</td>\n",
       "      <td>-17.116667</td>\n",
       "      <td>1</td>\n",
       "    </tr>\n",
       "    <tr>\n",
       "      <th>14</th>\n",
       "      <td>Y</td>\n",
       "      <td>-16.533333</td>\n",
       "      <td>1</td>\n",
       "    </tr>\n",
       "    <tr>\n",
       "      <th>15</th>\n",
       "      <td>S</td>\n",
       "      <td>-14.916667</td>\n",
       "      <td>1</td>\n",
       "    </tr>\n",
       "    <tr>\n",
       "      <th>16</th>\n",
       "      <td>G</td>\n",
       "      <td>-14.433333</td>\n",
       "      <td>1</td>\n",
       "    </tr>\n",
       "    <tr>\n",
       "      <th>17</th>\n",
       "      <td>C</td>\n",
       "      <td>-14.250000</td>\n",
       "      <td>1</td>\n",
       "    </tr>\n",
       "    <tr>\n",
       "      <th>18</th>\n",
       "      <td>B</td>\n",
       "      <td>-13.416667</td>\n",
       "      <td>1</td>\n",
       "    </tr>\n",
       "    <tr>\n",
       "      <th>19</th>\n",
       "      <td>V</td>\n",
       "      <td>-13.100000</td>\n",
       "      <td>1</td>\n",
       "    </tr>\n",
       "    <tr>\n",
       "      <th>10</th>\n",
       "      <td>V</td>\n",
       "      <td>13.116667</td>\n",
       "      <td>1</td>\n",
       "    </tr>\n",
       "    <tr>\n",
       "      <th>9</th>\n",
       "      <td>C</td>\n",
       "      <td>14.166667</td>\n",
       "      <td>1</td>\n",
       "    </tr>\n",
       "    <tr>\n",
       "      <th>8</th>\n",
       "      <td>G</td>\n",
       "      <td>14.416667</td>\n",
       "      <td>1</td>\n",
       "    </tr>\n",
       "    <tr>\n",
       "      <th>7</th>\n",
       "      <td>S</td>\n",
       "      <td>14.816667</td>\n",
       "      <td>1</td>\n",
       "    </tr>\n",
       "    <tr>\n",
       "      <th>6</th>\n",
       "      <td>Y</td>\n",
       "      <td>16.450000</td>\n",
       "      <td>1</td>\n",
       "    </tr>\n",
       "    <tr>\n",
       "      <th>5</th>\n",
       "      <td>O</td>\n",
       "      <td>17.116667</td>\n",
       "      <td>1</td>\n",
       "    </tr>\n",
       "    <tr>\n",
       "      <th>4</th>\n",
       "      <td>K</td>\n",
       "      <td>17.150000</td>\n",
       "      <td>1</td>\n",
       "    </tr>\n",
       "    <tr>\n",
       "      <th>3</th>\n",
       "      <td>R</td>\n",
       "      <td>17.883333</td>\n",
       "      <td>1</td>\n",
       "    </tr>\n",
       "    <tr>\n",
       "      <th>2</th>\n",
       "      <td>Y</td>\n",
       "      <td>34.583333</td>\n",
       "      <td>2</td>\n",
       "    </tr>\n",
       "    <tr>\n",
       "      <th>1</th>\n",
       "      <td>O</td>\n",
       "      <td>36.050000</td>\n",
       "      <td>2</td>\n",
       "    </tr>\n",
       "  </tbody>\n",
       "</table>\n",
       "</div>"
      ],
      "text/plain": [
       "    0          1  2\n",
       "21  O -36.116667  2\n",
       "20  Y -34.633333  2\n",
       "11  R -17.983333  1\n",
       "12  K -17.183333  1\n",
       "13  O -17.116667  1\n",
       "14  Y -16.533333  1\n",
       "15  S -14.916667  1\n",
       "16  G -14.433333  1\n",
       "17  C -14.250000  1\n",
       "18  B -13.416667  1\n",
       "19  V -13.100000  1\n",
       "10  V  13.116667  1\n",
       "9   C  14.166667  1\n",
       "8   G  14.416667  1\n",
       "7   S  14.816667  1\n",
       "6   Y  16.450000  1\n",
       "5   O  17.116667  1\n",
       "4   K  17.150000  1\n",
       "3   R  17.883333  1\n",
       "2   Y  34.583333  2\n",
       "1   O  36.050000  2"
      ]
     },
     "execution_count": 19,
     "metadata": {},
     "output_type": "execute_result"
    }
   ],
   "source": [
    "data3.sort_values(1)"
   ]
  },
  {
   "cell_type": "code",
   "execution_count": 35,
   "id": "constitutional-product",
   "metadata": {},
   "outputs": [
    {
     "data": {
      "text/html": [
       "<div>\n",
       "<style scoped>\n",
       "    .dataframe tbody tr th:only-of-type {\n",
       "        vertical-align: middle;\n",
       "    }\n",
       "\n",
       "    .dataframe tbody tr th {\n",
       "        vertical-align: top;\n",
       "    }\n",
       "\n",
       "    .dataframe thead th {\n",
       "        text-align: right;\n",
       "    }\n",
       "</style>\n",
       "<table border=\"1\" class=\"dataframe\">\n",
       "  <thead>\n",
       "    <tr style=\"text-align: right;\">\n",
       "      <th></th>\n",
       "      <th>0</th>\n",
       "      <th>1</th>\n",
       "    </tr>\n",
       "  </thead>\n",
       "  <tbody>\n",
       "    <tr>\n",
       "      <th>0</th>\n",
       "      <td>R</td>\n",
       "      <td>211.166667</td>\n",
       "    </tr>\n",
       "    <tr>\n",
       "      <th>1</th>\n",
       "      <td>O</td>\n",
       "      <td>210.633333</td>\n",
       "    </tr>\n",
       "    <tr>\n",
       "      <th>2</th>\n",
       "      <td>G</td>\n",
       "      <td>210.366667</td>\n",
       "    </tr>\n",
       "    <tr>\n",
       "      <th>3</th>\n",
       "      <td>C</td>\n",
       "      <td>209.716667</td>\n",
       "    </tr>\n",
       "    <tr>\n",
       "      <th>4</th>\n",
       "      <td>B</td>\n",
       "      <td>208.733333</td>\n",
       "    </tr>\n",
       "    <tr>\n",
       "      <th>5</th>\n",
       "      <td>V</td>\n",
       "      <td>207.683333</td>\n",
       "    </tr>\n",
       "    <tr>\n",
       "      <th>6</th>\n",
       "      <td>R</td>\n",
       "      <td>307.166667</td>\n",
       "    </tr>\n",
       "    <tr>\n",
       "      <th>7</th>\n",
       "      <td>Y</td>\n",
       "      <td>307.400000</td>\n",
       "    </tr>\n",
       "    <tr>\n",
       "      <th>8</th>\n",
       "      <td>G</td>\n",
       "      <td>307.866667</td>\n",
       "    </tr>\n",
       "    <tr>\n",
       "      <th>9</th>\n",
       "      <td>C</td>\n",
       "      <td>308.600000</td>\n",
       "    </tr>\n",
       "    <tr>\n",
       "      <th>10</th>\n",
       "      <td>B</td>\n",
       "      <td>309.750000</td>\n",
       "    </tr>\n",
       "    <tr>\n",
       "      <th>11</th>\n",
       "      <td>V</td>\n",
       "      <td>310.616667</td>\n",
       "    </tr>\n",
       "  </tbody>\n",
       "</table>\n",
       "</div>"
      ],
      "text/plain": [
       "    0           1\n",
       "0   R  211.166667\n",
       "1   O  210.633333\n",
       "2   G  210.366667\n",
       "3   C  209.716667\n",
       "4   B  208.733333\n",
       "5   V  207.683333\n",
       "6   R  307.166667\n",
       "7   Y  307.400000\n",
       "8   G  307.866667\n",
       "9   C  308.600000\n",
       "10  B  309.750000\n",
       "11  V  310.616667"
      ]
     },
     "execution_count": 35,
     "metadata": {},
     "output_type": "execute_result"
    }
   ],
   "source": [
    "pr = read('HG_PR.txt', zero=False, maxes=False)\n",
    "pr"
   ]
  },
  {
   "cell_type": "code",
   "execution_count": 117,
   "id": "accomplished-sugar",
   "metadata": {},
   "outputs": [],
   "source": [
    "def n(θ, θ_red):\n",
    "    α = np.pi/3\n",
    "    return np.sqrt(((np.sin(θ + α/2 - θ_red/2) + np.cos(α)*np.sin(α/2 + θ_red/2))\n",
    "                   /np.sin(α))**2 + np.sin(α/2 + θ_red/2)**2)\n",
    "\n",
    "z = (259 + 10/60)"
   ]
  },
  {
   "cell_type": "code",
   "execution_count": 118,
   "id": "cellular-preparation",
   "metadata": {},
   "outputs": [],
   "source": [
    "p = pr[1][pr[1] < z]\n",
    "r1 = n(-(p - z)/180*np.pi, -(p.iloc[0] - z)/180*np.pi)\n",
    "col = pr[0][pr[1] > z]\n",
    "p = pr[1][pr[1] > z]\n",
    "r2 = n((p - z)/180*np.pi, (p.iloc[0] - z)/180*np.pi)"
   ]
  },
  {
   "cell_type": "code",
   "execution_count": 119,
   "id": "cordless-harrison",
   "metadata": {},
   "outputs": [
    {
     "data": {
      "text/plain": [
       "(array([1.61803399, 1.62194741, 1.62566422, 1.63258764, 1.64304556,\n",
       "        1.65221271]),\n",
       " 0\n",
       " R    620.937875\n",
       " Y    575.142154\n",
       " G    545.645727\n",
       " C    489.660761\n",
       " B    434.545937\n",
       " V    401.903723\n",
       " dtype: float64,\n",
       " 6     R\n",
       " 7     Y\n",
       " 8     G\n",
       " 9     C\n",
       " 10    B\n",
       " 11    V\n",
       " Name: 0, dtype: object)"
      ]
     },
     "execution_count": 119,
     "metadata": {},
     "output_type": "execute_result"
    }
   ],
   "source": [
    "result = (np.array(r1) + np.array(r2))/2\n",
    "result, total_average[col], col"
   ]
  },
  {
   "cell_type": "code",
   "execution_count": 157,
   "id": "skilled-inside",
   "metadata": {},
   "outputs": [
    {
     "name": "stdout",
     "output_type": "stream",
     "text": [
      "[1.59362134 0.00940872] [0.00051573 0.00011995]\n"
     ]
    },
    {
     "data": {
      "application/vnd.jupyter.widget-view+json": {
       "model_id": "eb3ccf8966c14113b97396d0b3bbad2c",
       "version_major": 2,
       "version_minor": 0
      },
      "text/html": [
       "\n",
       "            <div style=\"display: inline-block;\">\n",
       "                <div class=\"jupyter-widgets widget-label\" style=\"text-align: center;\">\n",
       "                    Figure\n",
       "                </div>\n",
       "                <img src='data:image/png;base64,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' width=640.0/>\n",
       "            </div>\n",
       "        "
      ],
      "text/plain": [
       "Canvas(toolbar=Toolbar(toolitems=[('Home', 'Reset original view', 'home', 'home'), ('Back', 'Back to previous …"
      ]
     },
     "metadata": {},
     "output_type": "display_data"
    }
   ],
   "source": [
    "from scipy.optimize import curve_fit\n",
    "\n",
    "%matplotlib widget\n",
    "plt.scatter(total_average[col], result, label=\"Эсперимент\")\n",
    "plt.xlabel(\"Длина волны, нм\")\n",
    "plt.ylabel(\"Коэффициент преломления\")\n",
    "x = np.arange(400, 700)\n",
    "f = lambda x, A, B: A + B/(x*1e-3)**2\n",
    "y = f(x, 1.5220, 0.00459)\n",
    "res, err = curve_fit(f, total_average[col], result)\n",
    "plt.plot(x, f(x, *res), label=\"Аппроксимация $A+B\\lambda^{-2}$\")\n",
    "#plt.plot(x, y)\n",
    "plt.legend()\n",
    "print(res, np.sqrt(np.diag(err)))"
   ]
  },
  {
   "cell_type": "code",
   "execution_count": null,
   "id": "coral-laptop",
   "metadata": {},
   "outputs": [],
   "source": []
  },
  {
   "cell_type": "code",
   "execution_count": 127,
   "id": "radio-pound",
   "metadata": {},
   "outputs": [
    {
     "data": {
      "text/html": [
       "<div>\n",
       "<style scoped>\n",
       "    .dataframe tbody tr th:only-of-type {\n",
       "        vertical-align: middle;\n",
       "    }\n",
       "\n",
       "    .dataframe tbody tr th {\n",
       "        vertical-align: top;\n",
       "    }\n",
       "\n",
       "    .dataframe thead th {\n",
       "        text-align: right;\n",
       "    }\n",
       "</style>\n",
       "<table border=\"1\" class=\"dataframe\">\n",
       "  <thead>\n",
       "    <tr style=\"text-align: right;\">\n",
       "      <th></th>\n",
       "      <th>0</th>\n",
       "      <th>1</th>\n",
       "    </tr>\n",
       "  </thead>\n",
       "  <tbody>\n",
       "    <tr>\n",
       "      <th>0</th>\n",
       "      <td>R</td>\n",
       "      <td>211.166667</td>\n",
       "    </tr>\n",
       "    <tr>\n",
       "      <th>1</th>\n",
       "      <td>O</td>\n",
       "      <td>210.633333</td>\n",
       "    </tr>\n",
       "    <tr>\n",
       "      <th>2</th>\n",
       "      <td>G</td>\n",
       "      <td>210.366667</td>\n",
       "    </tr>\n",
       "    <tr>\n",
       "      <th>3</th>\n",
       "      <td>C</td>\n",
       "      <td>209.716667</td>\n",
       "    </tr>\n",
       "    <tr>\n",
       "      <th>4</th>\n",
       "      <td>B</td>\n",
       "      <td>208.733333</td>\n",
       "    </tr>\n",
       "    <tr>\n",
       "      <th>5</th>\n",
       "      <td>V</td>\n",
       "      <td>207.683333</td>\n",
       "    </tr>\n",
       "    <tr>\n",
       "      <th>6</th>\n",
       "      <td>R</td>\n",
       "      <td>307.166667</td>\n",
       "    </tr>\n",
       "    <tr>\n",
       "      <th>7</th>\n",
       "      <td>Y</td>\n",
       "      <td>307.400000</td>\n",
       "    </tr>\n",
       "    <tr>\n",
       "      <th>8</th>\n",
       "      <td>G</td>\n",
       "      <td>307.866667</td>\n",
       "    </tr>\n",
       "    <tr>\n",
       "      <th>9</th>\n",
       "      <td>C</td>\n",
       "      <td>308.600000</td>\n",
       "    </tr>\n",
       "    <tr>\n",
       "      <th>10</th>\n",
       "      <td>B</td>\n",
       "      <td>309.750000</td>\n",
       "    </tr>\n",
       "    <tr>\n",
       "      <th>11</th>\n",
       "      <td>V</td>\n",
       "      <td>310.616667</td>\n",
       "    </tr>\n",
       "  </tbody>\n",
       "</table>\n",
       "</div>"
      ],
      "text/plain": [
       "    0           1\n",
       "0   R  211.166667\n",
       "1   O  210.633333\n",
       "2   G  210.366667\n",
       "3   C  209.716667\n",
       "4   B  208.733333\n",
       "5   V  207.683333\n",
       "6   R  307.166667\n",
       "7   Y  307.400000\n",
       "8   G  307.866667\n",
       "9   C  308.600000\n",
       "10  B  309.750000\n",
       "11  V  310.616667"
      ]
     },
     "execution_count": 127,
     "metadata": {},
     "output_type": "execute_result"
    }
   ],
   "source": [
    "pr_na = read('HG_PR.txt', zero=False, maxes=False)\n",
    "pr_na"
   ]
  },
  {
   "cell_type": "code",
   "execution_count": 128,
   "id": "excessive-ethnic",
   "metadata": {},
   "outputs": [
    {
     "data": {
      "text/plain": [
       "0    1.618034\n",
       "1    1.623473\n",
       "2    1.626169\n",
       "3    1.632670\n",
       "4    1.642320\n",
       "5    1.652370\n",
       "Name: 1, dtype: float64"
      ]
     },
     "execution_count": 128,
     "metadata": {},
     "output_type": "execute_result"
    }
   ],
   "source": [
    "p = pr_na[1][pr_na[1] < z]\n",
    "r1 = n(-(p - z)/180*np.pi, -(p.iloc[0] - z)/180*np.pi)\n",
    "r1"
   ]
  },
  {
   "cell_type": "code",
   "execution_count": 129,
   "id": "electronic-haven",
   "metadata": {},
   "outputs": [],
   "source": [
    "p = pr[1][pr[1] < z]\n",
    "r1 = n(-(p - z)/180*np.pi, -(p.iloc[0] - z)/180*np.pi)\n",
    "col = pr[0][pr[1] > z]\n",
    "p = pr[1][pr[1] > z]\n",
    "r2 = n((p - z)/180*np.pi, (p.iloc[0] - z)/180*np.pi)"
   ]
  },
  {
   "cell_type": "code",
   "execution_count": 130,
   "id": "unable-favorite",
   "metadata": {},
   "outputs": [
    {
     "data": {
      "text/plain": [
       "(array([1.61803399, 1.62194741, 1.62566422, 1.63258764, 1.64304556,\n",
       "        1.65221271]),\n",
       " 0\n",
       " R    615.820127\n",
       " Y    567.857515\n",
       " G    498.224970\n",
       " C    490.896637\n",
       " B    464.061725\n",
       " V    453.585923\n",
       " dtype: float64,\n",
       " 6     R\n",
       " 7     Y\n",
       " 8     G\n",
       " 9     C\n",
       " 10    B\n",
       " 11    V\n",
       " Name: 0, dtype: object)"
      ]
     },
     "execution_count": 130,
     "metadata": {},
     "output_type": "execute_result"
    }
   ],
   "source": [
    "result_na = (np.array(r1) + np.array(r2))/2\n",
    "result_na, calculate_average(data3)[col], col"
   ]
  },
  {
   "cell_type": "code",
   "execution_count": 158,
   "id": "warming-breathing",
   "metadata": {},
   "outputs": [
    {
     "name": "stdout",
     "output_type": "stream",
     "text": [
      "[1.57801782 0.01389325] [0.01191863 0.00299205]\n"
     ]
    },
    {
     "data": {
      "application/vnd.jupyter.widget-view+json": {
       "model_id": "b0dbd534ab8c4ad6915fb6a706834c42",
       "version_major": 2,
       "version_minor": 0
      },
      "text/html": [
       "\n",
       "            <div style=\"display: inline-block;\">\n",
       "                <div class=\"jupyter-widgets widget-label\" style=\"text-align: center;\">\n",
       "                    Figure\n",
       "                </div>\n",
       "                <img src='data:image/png;base64,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' width=640.0/>\n",
       "            </div>\n",
       "        "
      ],
      "text/plain": [
       "Canvas(toolbar=Toolbar(toolitems=[('Home', 'Reset original view', 'home', 'home'), ('Back', 'Back to previous …"
      ]
     },
     "metadata": {},
     "output_type": "display_data"
    }
   ],
   "source": [
    "from scipy.optimize import curve_fit\n",
    "\n",
    "%matplotlib widget\n",
    "plt.xlabel(\"Длина волны, нм\")\n",
    "plt.ylabel(\"Коэффициент преломления\")\n",
    "plt.scatter(calculate_average(data3)[col], result_na, label=\"Эксперимент\")\n",
    "#plt.scatter(total_average[col], result)\n",
    "x = np.arange(400, 700)\n",
    "f = lambda x, A, B: A + B/(x*1e-3)**2\n",
    "y = f(x, 1.5220, 0.00459)\n",
    "res, err = curve_fit(f, calculate_average(data3)[col], result_na)\n",
    "plt.plot(x, f(x, *res), label=\"Аппроксимация $A+B\\lambda^{-2}$\")\n",
    "#plt.plot(x, y)\n",
    "plt.legend()\n",
    "print(res, np.sqrt(np.diag(err)))"
   ]
  },
  {
   "cell_type": "code",
   "execution_count": null,
   "id": "worthy-algebra",
   "metadata": {},
   "outputs": [],
   "source": []
  }
 ],
 "metadata": {
  "kernelspec": {
   "display_name": "Python 3",
   "language": "python",
   "name": "python3"
  },
  "language_info": {
   "codemirror_mode": {
    "name": "ipython",
    "version": 3
   },
   "file_extension": ".py",
   "mimetype": "text/x-python",
   "name": "python",
   "nbconvert_exporter": "python",
   "pygments_lexer": "ipython3",
   "version": "3.7.5"
  }
 },
 "nbformat": 4,
 "nbformat_minor": 5
}
